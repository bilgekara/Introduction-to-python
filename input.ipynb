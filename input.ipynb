{
 "cells": [
  {
   "cell_type": "code",
   "execution_count": 1,
   "metadata": {},
   "outputs": [
    {
     "name": "stdout",
     "output_type": "stream",
     "text": [
      "Adınızı giriniz-> Bilgenur\n",
      "Soyadınızı giriiniz-> Kara\n",
      "Yaşınızı giriniz-> 21\n",
      "Doğum gününü sadece yıl bazlı giriniz-> 1999\n",
      "\n",
      "------Kullanıcı Bilgileri------\n",
      "-> Bilgenur\n",
      "-> Kara\n",
      "-> 21\n",
      "-> 1999\n",
      "\n",
      "'Dışarı çıkabilirsin' :))\n"
     ]
    }
   ],
   "source": [
    "name = input(\"Adınızı giriniz-> \");\n",
    "surname = input(\"Soyadınızı giriiniz-> \")\n",
    "age = input(\"Yaşınızı giriniz-> \")\n",
    "dogumGunu= input(\"Doğum gününü sadece yıl bazlı giriniz-> \")\n",
    "\n",
    "list = [ name, surname, age, dogumGunu]\n",
    "print(\"\\n------Kullanıcı Bilgileri------\")\n",
    "for sayi in list:\n",
    "    print(\"->\",sayi)\n",
    "    \n",
    "if int(age) < 18:\n",
    "    print(\"\\n'Dışarı çıkmazsın çünkü çok tehlikeli' X\")\n",
    "else :\n",
    "    print(\"\\n'Dışarı çıkabilirsin' :))\")"
   ]
  },
  {
   "cell_type": "code",
   "execution_count": null,
   "metadata": {},
   "outputs": [],
   "source": []
  }
 ],
 "metadata": {
  "kernelspec": {
   "display_name": "Python 3",
   "language": "python",
   "name": "python3"
  },
  "language_info": {
   "codemirror_mode": {
    "name": "ipython",
    "version": 3
   },
   "file_extension": ".py",
   "mimetype": "text/x-python",
   "name": "python",
   "nbconvert_exporter": "python",
   "pygments_lexer": "ipython3",
   "version": "3.8.5"
  }
 },
 "nbformat": 4,
 "nbformat_minor": 4
}
