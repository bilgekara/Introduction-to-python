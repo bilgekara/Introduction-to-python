{
 "cells": [
  {
   "cell_type": "code",
   "execution_count": 10,
   "metadata": {},
   "outputs": [
    {
     "name": "stdout",
     "output_type": "stream",
     "text": [
      "lütfen 5 tane değer giriniz\n",
      "1.değer->1\n",
      "2.değer->2\n",
      "3.değer->3\n",
      "4.değer->4\n",
      "5.değer->5\n",
      "-----------------------------\n",
      "1. değer-> 1 \n",
      "\n",
      "2. değer-> 2 \n",
      "\n",
      "3. değer-> 3 \n",
      "\n",
      "4. değer-> 4 \n",
      "\n",
      "5. değer-> 5 \n",
      "\n"
     ]
    }
   ],
   "source": [
    "print(\"lütfen 5 tane değer giriniz\")\n",
    "list=[1,2,3,4,5]\n",
    "i = 0\n",
    "temp = 1\n",
    "for i in range(0,5):\n",
    "    list[i] = input(\"{}.değer->\".format(i+1))\n",
    "\n",
    "print(\"-----------------------------\")\n",
    "for sayi in list:\n",
    "    print(f'{ temp }. değer-> {sayi} \\n')\n",
    "    temp += 1\n"
   ]
  },
  {
   "cell_type": "code",
   "execution_count": null,
   "metadata": {},
   "outputs": [],
   "source": []
  }
 ],
 "metadata": {
  "kernelspec": {
   "display_name": "Python 3",
   "language": "python",
   "name": "python3"
  },
  "language_info": {
   "codemirror_mode": {
    "name": "ipython",
    "version": 3
   },
   "file_extension": ".py",
   "mimetype": "text/x-python",
   "name": "python",
   "nbconvert_exporter": "python",
   "pygments_lexer": "ipython3",
   "version": "3.8.5"
  }
 },
 "nbformat": 4,
 "nbformat_minor": 4
}
